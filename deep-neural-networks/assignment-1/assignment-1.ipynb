{
  "nbformat": 4,
  "nbformat_minor": 0,
  "metadata": {
    "colab": {
      "name": "zad-zal-1.ipynb",
      "provenance": [],
      "collapsed_sections": [
        "eOFe_at2MNRX",
        "S-d5U65rhtO8",
        "mkxpXlTmlyWU"
      ],
      "toc_visible": true
    },
    "kernelspec": {
      "name": "python3",
      "display_name": "Python 3"
    },
    "language_info": {
      "name": "python"
    },
    "accelerator": "GPU"
  },
  "cells": [
    {
      "cell_type": "markdown",
      "metadata": {
        "id": "eOFe_at2MNRX"
      },
      "source": [
        "# Deep neural networks: Homework task 1\n",
        "# Task implementation\n",
        "##### Author: Mikołaj Mazurczyk\n",
        "##### Index no: 426819\n",
        "\n",
        "---\n",
        "\n",
        "# Downloading the data\n"
      ]
    },
    {
      "cell_type": "code",
      "metadata": {
        "colab": {
          "base_uri": "https://localhost:8080/"
        },
        "id": "NpbXot2TyycY",
        "outputId": "ff200b91-0104-4320-cbc8-dbef5845c3f6"
      },
      "source": [
        "!wget https://www.mimuw.edu.pl/~ciebie/gsn-2021-1.zip\n",
        "!unzip gsn-2021-1.zip &> /dev/null\n",
        "#!rm -r data\n",
        "!rm gsn-2021-1.zip"
      ],
      "execution_count": 1,
      "outputs": [
        {
          "output_type": "stream",
          "text": [
            "--2021-05-04 18:52:35--  https://www.mimuw.edu.pl/~ciebie/gsn-2021-1.zip\n",
            "Resolving www.mimuw.edu.pl (www.mimuw.edu.pl)... 193.0.96.14\n",
            "Connecting to www.mimuw.edu.pl (www.mimuw.edu.pl)|193.0.96.14|:443... connected.\n",
            "HTTP request sent, awaiting response... 200 OK\n",
            "Length: 5544261 (5.3M) [application/zip]\n",
            "Saving to: ‘gsn-2021-1.zip’\n",
            "\n",
            "gsn-2021-1.zip      100%[===================>]   5.29M  3.78MB/s    in 1.4s    \n",
            "\n",
            "2021-05-04 18:52:37 (3.78 MB/s) - ‘gsn-2021-1.zip’ saved [5544261/5544261]\n",
            "\n"
          ],
          "name": "stdout"
        }
      ]
    },
    {
      "cell_type": "markdown",
      "metadata": {
        "id": "1c0ikfCeb8QB"
      },
      "source": [
        "# Dataset"
      ]
    },
    {
      "cell_type": "code",
      "metadata": {
        "id": "aqm0iXZ80rb7"
      },
      "source": [
        "from torch.utils.data import Dataset\n",
        "import torch\n",
        "import os\n",
        "from PIL import Image\n",
        "import numpy as np\n",
        "\n",
        "\n",
        "class GeometricShapesDataset(Dataset):\n",
        "    def __init__(self, data_frame, root_dir, transform=None):\n",
        "        self.data_frame = data_frame\n",
        "        self.root_dir = root_dir\n",
        "        self.transform = transform\n",
        "    \n",
        "    def __len__(self):\n",
        "        return len(self.data_frame)\n",
        "    \n",
        "    def __getitem__(self, idx):\n",
        "        if torch.is_tensor(idx):\n",
        "            idx = idx.tolist()\n",
        "\n",
        "        img_name = os.path.join(self.root_dir, self.data_frame.iloc[idx, 0])\n",
        "        image = Image.open(img_name).convert('1')\n",
        "\n",
        "        shape_classes = np.array(self.data_frame.iloc[idx, 1:]).astype('float')\n",
        "        sample = {'image': image, 'shape_classes': shape_classes}\n",
        "\n",
        "        if self.transform:\n",
        "            sample = self.transform(sample)\n",
        "\n",
        "        return sample\n"
      ],
      "execution_count": 2,
      "outputs": []
    },
    {
      "cell_type": "markdown",
      "metadata": {
        "id": "OXp5bDNBbhAK"
      },
      "source": [
        "# Auguemntations"
      ]
    },
    {
      "cell_type": "code",
      "metadata": {
        "id": "5vj35yWy3YQ8"
      },
      "source": [
        "from matplotlib import pyplot\n",
        "\n",
        "\n",
        "UP_IDX = 2\n",
        "RIGHT_IDX = 3\n",
        "DOWN_IDX = 4\n",
        "LEFT_IDX = 5\n",
        "\n",
        "    \n",
        "class Rotate90(object):\n",
        "    def shift_values(self, arr, start_pos):\n",
        "        arr_len = len(arr)\n",
        "        assert(start_pos < arr_len - 1)\n",
        "        tmp = arr[start_pos]\n",
        "        idx = start_pos\n",
        "        while (idx < arr_len - 1):\n",
        "            arr[idx] = arr[idx + 1]\n",
        "            idx += 1\n",
        "    \n",
        "        arr[idx] = tmp\n",
        "\n",
        "    def __init__(self):\n",
        "        pass\n",
        "\n",
        "    def __call__(self, sample):\n",
        "        image, shape_classes = sample['image'], sample['shape_classes']\n",
        "        new_img = image.rotate(90)\n",
        "        new_shape_classes = np.copy(shape_classes)\n",
        "        self.shift_values(new_shape_classes, 2)\n",
        "\n",
        "        return {'image': new_img, 'shape_classes': new_shape_classes}\n",
        "\n",
        "\n",
        "def swap_values(arr, x, y):\n",
        "    tmp = arr[x]\n",
        "    arr[x] = arr[y]\n",
        "    arr[y] = tmp\n",
        "\n",
        "\n",
        "class HorizontalFlip(object):\n",
        "    def __init__(self):\n",
        "        pass\n",
        "\n",
        "    def __call__(self, sample):\n",
        "        image, shape_classes = sample['image'], sample['shape_classes']\n",
        "        new_img = image.transpose(Image.FLIP_TOP_BOTTOM)\n",
        "        new_shape_classes = np.copy(shape_classes)\n",
        "        swap_values(new_shape_classes, UP_IDX, DOWN_IDX)\n",
        "\n",
        "        return {'image': new_img, 'shape_classes': new_shape_classes}\n",
        "\n",
        "\n",
        "class VerticalFlip(object):\n",
        "    def __init__(self):\n",
        "        pass\n",
        "\n",
        "    def __call__(self, sample):\n",
        "        image, shape_classes = sample['image'], sample['shape_classes']\n",
        "        new_img = image.transpose(Image.FLIP_LEFT_RIGHT)\n",
        "        new_shape_classes = np.copy(shape_classes)\n",
        "        swap_values(shape_classes, LEFT_IDX, RIGHT_IDX)\n",
        "\n",
        "        return {'image': new_img, 'shape_classes': new_shape_classes}\n",
        "\n",
        "class ToTensor(object):\n",
        "    def __call__(self, sample):\n",
        "        image, shape_classes = sample['image'], sample['shape_classes']\n",
        "        image = np.asarray(image).reshape((1, 28, 28)).astype('float')\n",
        "\n",
        "        return {'image': torch.from_numpy(image),\n",
        "                'shape_classes': torch.from_numpy(shape_classes)}\n"
      ],
      "execution_count": 3,
      "outputs": []
    },
    {
      "cell_type": "markdown",
      "metadata": {
        "id": "S-d5U65rhtO8"
      },
      "source": [
        "# Shape classification network"
      ]
    },
    {
      "cell_type": "code",
      "metadata": {
        "id": "YdQwZ7Zvh1DY"
      },
      "source": [
        "import torch.nn as nn\n",
        "\n",
        "\n",
        "def features_num(x):\n",
        "    sizes = x.size()[1:]\n",
        "    res = 1\n",
        "    for size in sizes:\n",
        "        res *= size\n",
        "    return res\n",
        "\n",
        "\n",
        "class ShapeClassificationNet(nn.Module):\n",
        "    def __init__(self):\n",
        "        super(ShapeClassificationNet, self).__init__()\n",
        "        self.conv = nn.Sequential(\n",
        "            nn.Conv2d(in_channels=1, out_channels=32, \n",
        "                      kernel_size=(5, 5), padding=(2, 2)),\n",
        "            nn.ReLU(),\n",
        "            nn.MaxPool2d(kernel_size=(2, 2), stride=2),\n",
        "            nn.Conv2d(in_channels=32, out_channels=64, \n",
        "                      kernel_size=(5, 5), padding=(2, 2)),\n",
        "            nn.ReLU(),\n",
        "            nn.MaxPool2d(kernel_size=(2, 2), stride=2),\n",
        "            nn.Conv2d(in_channels=64, out_channels=128, \n",
        "                      kernel_size=(5, 5), padding=(2, 2)),\n",
        "            nn.ReLU()\n",
        "        )\n",
        "        self.lin = nn.Sequential(\n",
        "            nn.Linear(7*7*128, 7*128),\n",
        "            nn.ReLU(),\n",
        "            nn.Linear(7*128, 128),\n",
        "            nn.ReLU(),\n",
        "            nn.Linear(128, 6),\n",
        "            nn.Softmax(dim=1)\n",
        "        )\n",
        "\n",
        "    def forward(self, x):\n",
        "        x = self.conv(x)\n",
        "        x = x.view(-1, features_num(x))\n",
        "        x = self.lin(x)\n",
        "        return x\n"
      ],
      "execution_count": 70,
      "outputs": []
    },
    {
      "cell_type": "markdown",
      "metadata": {
        "id": "mkxpXlTmlyWU"
      },
      "source": [
        "# Shape classification additional metric"
      ]
    },
    {
      "cell_type": "code",
      "metadata": {
        "id": "CLmp7Kthl4L_"
      },
      "source": [
        "def convert_labels(labels):\n",
        "    labels[labels != 0.] = 1.\n"
      ],
      "execution_count": 5,
      "outputs": []
    },
    {
      "cell_type": "markdown",
      "metadata": {
        "id": "uK-ImTVMlYJP"
      },
      "source": [
        "# Shape classification trainer"
      ]
    },
    {
      "cell_type": "code",
      "metadata": {
        "id": "d8uSr4QjBGVq"
      },
      "source": [
        "import torch\n",
        "import torch.nn as nn\n",
        "import torch.nn.functional as F\n",
        "import torch.optim as optim\n",
        "from torch.nn.parameter import Parameter\n",
        "from torch.nn import init\n",
        "import torchvision\n",
        "import torchvision.transforms as transforms\n",
        "\n",
        "\n",
        "\n",
        "def get_two_max_idx(arr):\n",
        "    a = 0.\n",
        "    b = 0.\n",
        "    a_i = 0\n",
        "    b_i = 0\n",
        "    for i in range(6):\n",
        "        if arr[i] > a:\n",
        "            b = a\n",
        "            b_i = a_i\n",
        "            a = arr[i]\n",
        "            a_i = i\n",
        "        elif arr[i] > b:\n",
        "            b = arr[i]\n",
        "            b_i = i\n",
        "    \n",
        "    if a_i < b_i:\n",
        "        return a_i, b_i\n",
        "    else:\n",
        "        return b_i, a_i\n",
        "\n",
        "class ShapeClassificationTrainer(object):\n",
        "    def __init__(self, trainset, testset, net, train_batch=100, epochs=20):\n",
        "        use_cuda = torch.cuda.is_available()\n",
        "        print(f\"Use cuda: {use_cuda}\")\n",
        "        self.device = torch.device(\"cuda\" if use_cuda else \"cpu\")\n",
        "        self.trainset = trainset\n",
        "        self.trainloader = torch.utils.data.DataLoader(\n",
        "            self.trainset, batch_size=train_batch, shuffle=True, num_workers=2,\n",
        "            pin_memory=True)\n",
        "        self.testset = testset\n",
        "        self.testloader = torch.utils.data.DataLoader(\n",
        "            self.testset, batch_size=1, shuffle=False, num_workers=2, \n",
        "            pin_memory=True)\n",
        "        self.net = net\n",
        "        self.epochs = epochs\n",
        "\n",
        "    def train(self):\n",
        "        losses = []\n",
        "        accuracies = []\n",
        "        epochs = []\n",
        "        self.net = self.net.to(self.device)\n",
        "        criterion = nn.BCELoss()\n",
        "        optimizer = optim.SGD(self.net.parameters(), lr=0.05, momentum=0.9)\n",
        "        for epoch in range(self.epochs):\n",
        "            epoch_loss = 0.0\n",
        "            c = 0\n",
        "            for i, data in enumerate(self.trainloader, 0):\n",
        "                img_key, label_key = data\n",
        "                images, labels = data[img_key], data[label_key]\n",
        "                images = images.to(device=self.device, dtype=torch.float)\n",
        "                convert_labels(labels)\n",
        "                labels = labels.to(self.device)\n",
        "\n",
        "                optimizer.zero_grad()\n",
        "                predicted_probas = self.net(images)\n",
        "                loss = criterion(predicted_probas.float(), labels.float())\n",
        "                loss.backward()\n",
        "                optimizer.step()\n",
        "                epoch_loss += loss.item()\n",
        "                c += 1\n",
        "            epoch_loss = epoch_loss / c\n",
        "            print(f\"Epoch: {epoch}\")\n",
        "            print(f\"Loss: {epoch_loss}\")\n",
        "\n",
        "            correct = 0\n",
        "            total = 0\n",
        "            with torch.no_grad():\n",
        "                for data in self.testloader:\n",
        "                    img_key, label_key = data\n",
        "                    images, labels = data[img_key], data[label_key]\n",
        "                    images = images.to(device=self.device, dtype=torch.float)\n",
        "                    convert_labels(labels)\n",
        "                    labels = labels.to(self.device)\n",
        "                    predicted_probas = self.net(images)\n",
        "\n",
        "                    (i, j) = get_two_max_idx(predicted_probas[0])\n",
        "                    total += 1\n",
        "                    correct += (labels[0][i] == 1. and labels[0][j] == 1.)\n",
        "            accuracy = 100 * correct / total \n",
        "            print(f\"Accuracy on testset: {accuracy}%\")\n",
        "            print(\"-\" * 45)\n",
        "            accuracies.append(accuracy)\n",
        "            losses.append(epoch_loss)\n",
        "            epochs.append(epoch + 1)\n",
        "        return losses, accuracies, epochs\n",
        "\n",
        "    def get_classification(self, i, j):\n",
        "        classes = [\"squares\", \"circles\", \"up\", \"right\", \"down\", \"left\"]\n",
        "        return classes[i] + \" : \" + classes[j]\n",
        "\n",
        "    def get_confusion_matrix(self):\n",
        "        actual = []\n",
        "        predicted = []\n",
        "        with torch.no_grad():\n",
        "            for data in self.testloader:\n",
        "                img_key, label_key = data\n",
        "                images, labels = data[img_key], data[label_key]\n",
        "                images = images.to(device=self.device, dtype=torch.float)\n",
        "                convert_labels(labels)\n",
        "                labels = labels.to(self.device)\n",
        "                predicted_probas = self.net(images)\n",
        "                a, b = get_two_max_idx(predicted_probas[0])\n",
        "                c, d = get_two_max_idx(labels[0])\n",
        "                actual.append(self.get_classification(c, d))\n",
        "                predicted.append(self.get_classification(a, b))\n",
        "        \n",
        "        return actual, predicted\n",
        "\n",
        "            \n",
        "            \n"
      ],
      "execution_count": 66,
      "outputs": []
    },
    {
      "cell_type": "markdown",
      "metadata": {
        "id": "KKktwxnLrJuk"
      },
      "source": [
        "# Shape classification network results\n",
        "\n",
        "\n",
        "---\n",
        "### Preparing dataset\n"
      ]
    },
    {
      "cell_type": "code",
      "metadata": {
        "id": "QNUqE1FRrWLC"
      },
      "source": [
        "import pandas as pd\n",
        "\n",
        "data = pd.read_csv(\"data/labels.csv\")\n",
        "train_data_frame = data.head(9000).copy()\n",
        "test_data_frame = data.tail(1000).copy().reset_index(drop=True)\n",
        "\n",
        "rotate180 = transforms.Compose([Rotate90(), Rotate90()])\n",
        "rotate270 = transforms.Compose([Rotate90(), Rotate90(), Rotate90()])\n",
        "train_transform = transforms.Compose([transforms.RandomChoice([Rotate90(), \n",
        "                                                               rotate180, \n",
        "                                                               rotate270, \n",
        "                                                               HorizontalFlip(), \n",
        "                                                               VerticalFlip(),\n",
        "                                                               transforms.Lambda(lambda x: x)]),\n",
        "                                      ToTensor()])\n",
        "test_transform = transforms.Compose([ToTensor()])\n",
        "\n",
        "trainset = GeometricShapesDataset(data_frame=train_data_frame, root_dir='data/',\n",
        "                                  transform=train_transform)\n",
        "\n",
        "testset = GeometricShapesDataset(data_frame=test_data_frame, root_dir='data/',\n",
        "                                 transform=test_transform)"
      ],
      "execution_count": 60,
      "outputs": []
    },
    {
      "cell_type": "markdown",
      "metadata": {
        "id": "XjKUORN5sZHk"
      },
      "source": [
        "### Training the shape classification network"
      ]
    },
    {
      "cell_type": "code",
      "metadata": {
        "colab": {
          "base_uri": "https://localhost:8080/"
        },
        "id": "75VwPdRNVLi6",
        "outputId": "d31a5061-1e0e-4be6-9beb-fd0d7b060cbc"
      },
      "source": [
        "sc_trainer = ShapeClassificationTrainer(\n",
        "    trainset, testset, ShapeClassificationNet(), epochs=25)\n",
        "losses, accuracies, epochs = sc_trainer.train()"
      ],
      "execution_count": 71,
      "outputs": [
        {
          "output_type": "stream",
          "text": [
            "Use cuda: True\n",
            "Epoch: 0\n",
            "Loss: 0.7187332623534732\n",
            "Accuracy on testset: 6.600000381469727%\n",
            "---------------------------------------------\n",
            "Epoch: 1\n",
            "Loss: 0.7184620208210415\n",
            "Accuracy on testset: 7.800000190734863%\n",
            "---------------------------------------------\n",
            "Epoch: 2\n",
            "Loss: 0.7169886151949565\n",
            "Accuracy on testset: 12.300000190734863%\n",
            "---------------------------------------------\n",
            "Epoch: 3\n",
            "Loss: 0.6967992113696204\n",
            "Accuracy on testset: 17.200000762939453%\n",
            "---------------------------------------------\n",
            "Epoch: 4\n",
            "Loss: 0.6404750446478525\n",
            "Accuracy on testset: 22.000001907348633%\n",
            "---------------------------------------------\n",
            "Epoch: 5\n",
            "Loss: 0.6036047604348924\n",
            "Accuracy on testset: 27.700000762939453%\n",
            "---------------------------------------------\n",
            "Epoch: 6\n",
            "Loss: 0.5816385408242544\n",
            "Accuracy on testset: 33.0%\n",
            "---------------------------------------------\n",
            "Epoch: 7\n",
            "Loss: 0.5210864285628001\n",
            "Accuracy on testset: 48.70000076293945%\n",
            "---------------------------------------------\n",
            "Epoch: 8\n",
            "Loss: 0.4726235141356786\n",
            "Accuracy on testset: 68.9000015258789%\n",
            "---------------------------------------------\n",
            "Epoch: 9\n",
            "Loss: 0.4268084731366899\n",
            "Accuracy on testset: 73.20000457763672%\n",
            "---------------------------------------------\n",
            "Epoch: 10\n",
            "Loss: 0.39257577757040657\n",
            "Accuracy on testset: 86.4000015258789%\n",
            "---------------------------------------------\n",
            "Epoch: 11\n",
            "Loss: 0.36730117797851564\n",
            "Accuracy on testset: 85.70000457763672%\n",
            "---------------------------------------------\n",
            "Epoch: 12\n",
            "Loss: 0.35543686515755124\n",
            "Accuracy on testset: 89.30000305175781%\n",
            "---------------------------------------------\n",
            "Epoch: 13\n",
            "Loss: 0.344730943441391\n",
            "Accuracy on testset: 85.9000015258789%\n",
            "---------------------------------------------\n",
            "Epoch: 14\n",
            "Loss: 0.3338572445842955\n",
            "Accuracy on testset: 92.30000305175781%\n",
            "---------------------------------------------\n",
            "Epoch: 15\n",
            "Loss: 0.3290012498696645\n",
            "Accuracy on testset: 90.4000015258789%\n",
            "---------------------------------------------\n",
            "Epoch: 16\n",
            "Loss: 0.32361216213968064\n",
            "Accuracy on testset: 93.30000305175781%\n",
            "---------------------------------------------\n",
            "Epoch: 17\n",
            "Loss: 0.3206416947974099\n",
            "Accuracy on testset: 92.60000610351562%\n",
            "---------------------------------------------\n",
            "Epoch: 18\n",
            "Loss: 0.31483834286530815\n",
            "Accuracy on testset: 93.50000762939453%\n",
            "---------------------------------------------\n",
            "Epoch: 19\n",
            "Loss: 0.3123364402188195\n",
            "Accuracy on testset: 92.9000015258789%\n",
            "---------------------------------------------\n",
            "Epoch: 20\n",
            "Loss: 0.3128151728047265\n",
            "Accuracy on testset: 92.20000457763672%\n",
            "---------------------------------------------\n",
            "Epoch: 21\n",
            "Loss: 0.3142167723841137\n",
            "Accuracy on testset: 94.00000762939453%\n",
            "---------------------------------------------\n",
            "Epoch: 22\n",
            "Loss: 0.30729038019975025\n",
            "Accuracy on testset: 93.50000762939453%\n",
            "---------------------------------------------\n",
            "Epoch: 23\n",
            "Loss: 0.3086918867296643\n",
            "Accuracy on testset: 95.60000610351562%\n",
            "---------------------------------------------\n",
            "Epoch: 24\n",
            "Loss: 0.3079396304157045\n",
            "Accuracy on testset: 95.9000015258789%\n",
            "---------------------------------------------\n"
          ],
          "name": "stdout"
        }
      ]
    },
    {
      "cell_type": "markdown",
      "metadata": {
        "id": "iCRROMK2wmsT"
      },
      "source": [
        "### Results plot"
      ]
    },
    {
      "cell_type": "code",
      "metadata": {
        "colab": {
          "base_uri": "https://localhost:8080/",
          "height": 573
        },
        "id": "GIDgMZRFwqqC",
        "outputId": "3ad1ab84-5647-49a6-f8cc-78d3563ea159"
      },
      "source": [
        "import matplotlib.pyplot as plt\n",
        "\n",
        "fig1, ax1 = plt.subplots()\n",
        "ax1.set_title(\"Losses\")\n",
        "ax1.set_xlabel(\"epoch\")\n",
        "ax1.set_ylabel(\"loss\")\n",
        "ax1.plot(epochs, losses, color=\"red\")\n",
        "fig1.savefig(\"losses.eps\", format='eps')\n",
        "\n",
        "fig2, ax2 = plt.subplots()\n",
        "ax2.set_title(\"Accuracies\")\n",
        "ax2.set_xlabel(\"epoch\")\n",
        "ax2.set_ylabel(\"accuracy\")\n",
        "ax2.plot(epochs, accuracies, color=\"red\")\n",
        "fig2.savefig(\"accuracies.eps\", format='eps')"
      ],
      "execution_count": 72,
      "outputs": [
        {
          "output_type": "display_data",
          "data": {
            "image/png": "[encoded data removed]",
            "text/plain": [
              "<Figure size 432x288 with 1 Axes>"
            ]
          },
          "metadata": {
            "tags": [],
            "needs_background": "light"
          }
        },
        {
          "output_type": "display_data",
          "data": {
            "image/png": "[encoded data removed]",
            "text/plain": [
              "<Figure size 432x288 with 1 Axes>"
            ]
          },
          "metadata": {
            "tags": [],
            "needs_background": "light"
          }
        }
      ]
    },
    {
      "cell_type": "markdown",
      "metadata": {
        "id": "_ciI50Wa9Qak"
      },
      "source": [
        "### Confusion matrix"
      ]
    },
    {
      "cell_type": "code",
      "metadata": {
        "colab": {
          "base_uri": "https://localhost:8080/",
          "height": 350
        },
        "id": "DvTfyYt39Tpo",
        "outputId": "9c30dd10-326a-47b4-e578-3dc3b00ad895"
      },
      "source": [
        "import seaborn as sn\n",
        "plt.tight_layout()\n",
        "actual, predicted = sc_trainer.get_confusion_matrix()\n",
        "data = {\"actual\":    actual, \"predicted\": predicted}\n",
        "\n",
        "df = pd.DataFrame(data, columns=[\"actual\",\"predicted\"])\n",
        "confusion_matrix = pd.crosstab(df[\"actual\"], df[\"predicted\"], \n",
        "                               rownames=[\"Actual label\"], \n",
        "                               colnames=[\"Predicted label\"])\n",
        "\n",
        "sn.heatmap(confusion_matrix, annot=True, cmap=\"BuGn\")\n",
        "plt.savefig(\"confusion-matrix.eps\", format='eps', bbox_inches='tight')\n",
        "plt.show()"
      ],
      "execution_count": 73,
      "outputs": [
        {
          "output_type": "display_data",
          "data": {
            "image/png": "[encoded data removed]",
            "text/plain": [
              "<Figure size 432x288 with 2 Axes>"
            ]
          },
          "metadata": {
            "tags": [],
            "needs_background": "light"
          }
        }
      ]
    }
  ]
}